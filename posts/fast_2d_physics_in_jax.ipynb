{
 "cells": [
  {
   "cell_type": "raw",
   "id": "2ea0d10d-6bab-47c4-bd19-a71230ab9772",
   "metadata": {},
   "source": [
    "---\n",
    "title: Jaxで高速な2Dゲーム物理シミュレーションを実装してみる\n",
    "date: 01/8/2023\n",
    "categories: [ja, RL, physics]\n",
    "---"
   ]
  },
  {
   "cell_type": "markdown",
   "id": "da28c967-3737-4fbc-ba79-5f6035494be4",
   "metadata": {},
   "source": [
    "GPU上での高速な物理シミュレーションは、(RLHFやOffline RLに押され気味とはいえ)強化学習界隈では話題のトピックですよね。また単純に、GPU上で爆速でシミュレーションが終わるのはなかなか楽しいものです。\n",
    "[NVIDIA IsaacSym](https://docs.omniverse.nvidia.com/index.html)もありますが、jaxで強化学習パイプライン全体を高速化したいなら[brax](https://github.com/google/brax)が便利です。以前[紹介するブログ](https://kngwyu.github.io/rlog2/posts/jax-brax-haiku.html)も書きましたが、現在のバージョンではより精度のいい手法が選べるようになっていて、普通にMuJoCoの代わりに使えそうな感じです。しかし、最近単純な2次元物理シミュレーションでbraxが使えないかな？と思って検討してみたところ、無理ではないのだけれどどうにも使いづらいな...という印象でした。また、二次元物理シミュレーションをするのに、三次元のボールとかで当たり判定を行うのはちょっと計算資源がもったいない気もします。なら自分で作ってしまえばいいんじゃないか？ということでやってみました。"
   ]
  },
  {
   "cell_type": "markdown",
   "id": "763a6759-4a06-455d-873f-20272e32a01c",
   "metadata": {},
   "source": [
    "# 2次元ゲーム物理？\n",
    "\n",
    "このブログ記事では、いわゆる「2次元ゲーム物理」の代表格として、[Box2D](https://en.wikipedia.org/wiki/Box2D)や[Chipmunk](tps://github.com/slembcke/Chipmunk2D)で実装されている比較的簡素なインパルスベースのシミュレーションを実装してみます。これは、物体が衝突した後の速度・位置の解決を、「衝突した位置から適当なインパルスを与える」ことで解く手法になります。braxでは\n",
    "\n",
    "> Spring provides fast and cheap simulation for rapid experimentation, using simple impulse-based methods often found in video games.\n",
    "\n",
    "と説明されています。関節が多い場合などはちゃんと拘束条件式と運動方程式を解かないとあまり精度が出ないのですが、単純な2次元物理シミュレーションならこれで十分でしょう。\n",
    "\n",
    "## 何をすればいいの\n",
    "\n",
    "では、このインパルスベースのシミュレーションでは、どのような流れでシミュレーションを実装すればいいのでしょうか。\n",
    "\n",
    "1. 現在の速度をもとに剛体を動かし、速度を減衰させる\n",
    "2. 剛体同士の衝突判定を行う\n",
    "3. 衝突した物体を交差しない位置まで戻して、衝突と逆方向のインパルスを加える\n",
    "\n",
    "まあだいたいこんな感じですね。必要に応じて「壁すり抜け対策」（物体が動いた軌道同士の交差判定）も行ったほうがいいですが、MuJoCoなど多くの物理シミュレーターでは$dt$が十分小さいことを仮定して実装されていないので、今回は実装しないことにします。\n",
    "\n",
    "# とりあえず動かしてみます"
   ]
  },
  {
   "cell_type": "markdown",
   "id": "c23028a7-5458-4707-95d3-eda003faa9bf",
   "metadata": {
    "tags": []
   },
   "source": [
    "まず必要なものを定義します。とりあえずこの世界には丸いものしかないことにしましょう。"
   ]
  },
  {
   "cell_type": "code",
   "execution_count": 31,
   "id": "45485f0b-c6c3-4fec-bfa6-cf28e029cac4",
   "metadata": {
    "tags": []
   },
   "outputs": [],
   "source": [
    "import functools\n",
    "from typing import Any, Sequence\n",
    "\n",
    "import chex\n",
    "import jax\n",
    "import jax.numpy as jnp\n",
    "\n",
    "Self = Any\n",
    "\n",
    "\n",
    "class PyTreeOps:\n",
    "    def __add__(self, o: Self) -> Self:\n",
    "        return tree_map(lambda x, y: x + y, self, o)\n",
    "\n",
    "    def __sub__(self, o: Self) -> Self:\n",
    "        return tree_map(lambda x, y: x - y, self, o)\n",
    "\n",
    "    def __mul__(self, o: Self) -> Self:\n",
    "        return tree_map(lambda x: x * o, self)\n",
    "\n",
    "    def __neg__(self) -> Self:\n",
    "        return tree_map(lambda x: -x, self)\n",
    "\n",
    "    def __truediv__(self, o: Self) -> Self:\n",
    "        return tree_map(lambda x: x / o, self)\n",
    "\n",
    "    def reshape(self, shape: Sequence[int]) -> Self:\n",
    "        return tree_map(lambda x: x.reshape(shape), self)\n",
    "    \n",
    "    def tolist(self) -> list[Self]:\n",
    "        leaves, treedef = jax.tree_util.tree_flatten(self)\n",
    "        return [treedef.unflatten(leaf) for leaf in zip(*leaves)]\n",
    "\n",
    "    def zeros_like(self) -> Any:\n",
    "        return tree_map(lambda x: jnp.zeros_like(x), self)\n",
    "\n",
    "\n",
    "TWO_PI = jnp.pi * 2\n",
    "\n",
    "\n",
    "\n",
    "@chex.dataclass\n",
    "class Velocity(PyTreeOps):\n",
    "    angle: jax.Array  # Angular velocity (N, 1)\n",
    "    xy: jax.Array  # (N, 2)\n",
    "\n",
    "\n",
    "@chex.dataclass\n",
    "class Position(PyTreeOps):\n",
    "    angle: jax.Array  # Angular velocity (N, 1)\n",
    "    xy: jax.Array  # (N, 2)\n",
    "\n",
    "\n",
    "@chex.dataclass\n",
    "class Circle(PyTreeOps):\n",
    "    mass: jax.Array\n",
    "    radius: jax.Array\n",
    "    rgba: jax.Array | None\n",
    "\n",
    "\n",
    "@chex.dataclass\n",
    "class State(PyTreeOps):\n",
    "    p: Position\n",
    "    v: Velocity\n",
    "    bias_v: Velocity\n",
    "\n",
    "\n",
    "@chex.dataclass\n",
    "class Space:\n",
    "    dt: jax.Array | float\n",
    "    damping: jax.Array | float\n",
    "    gravity: jax.Array\n",
    "    circle: jax.Array\n",
    "    \n",
    "    @functools.cached_property\n",
    "    def mass(self):\n",
    "        pass"
   ]
  },
  {
   "cell_type": "markdown",
   "id": "8ec1c78b-1f42-439a-87f4-41b2326db4d0",
   "metadata": {},
   "source": [
    "次は描画用の関数を準備しましょう。"
   ]
  },
  {
   "cell_type": "code",
   "execution_count": 30,
   "id": "d5a37356-6cef-41f9-b69d-a7923e73de3b",
   "metadata": {
    "tags": []
   },
   "outputs": [],
   "source": [
    "from typing import Iterable\n",
    "\n",
    "from matplotlib import pyplot as plt\n",
    "from matplotlib.axes import Axes\n",
    "from matplotlib.lines import Line2D\n",
    "from matplotlib.patches import Circle\n",
    "\n",
    "\n",
    "def visualize_balls(ax: Axes, circles: Circle, positions: Iterable[jax.Array]) -> None:\n",
    "    pos = list(positions)\n",
    "    for pi, circle in zip(pos, circles.tolist()):\n",
    "        color = (0, 0, 0, 1) if cirlce.rgba is None else tuple(circle.rgba)\n",
    "        ax.add_patch(xy=tuple(pos), radius=circle.radius, fill=False, color=color)\n",
    "    for pi, pi1 in zip(pos[:-1], pos[1:]):\n",
    "        ax.add_line(Line2D([p[0], pn[0]], [p[2], pn[2]], color=(0.8, 0, 0, 0.6)))"
   ]
  },
  {
   "cell_type": "markdown",
   "id": "9ce1144c-9d7b-40f0-8640-8d2e39fb4283",
   "metadata": {},
   "source": [
    "ボールを移動"
   ]
  },
  {
   "cell_type": "code",
   "execution_count": 32,
   "id": "3efc24d8-5d2f-48eb-b177-48ef9b1af91a",
   "metadata": {},
   "outputs": [],
   "source": [
    "def update_velocity(space: Space, state: State) -> State:\n",
    "    v = state.v * space.damping + (space.gravity + state.f * state.m_inv) * space.dt\n",
    "\n",
    "def update_position(space: Space, state: State) -> State:\n",
    "    v_dt = (state.v + state.bias_v) * space.dt\n",
    "    xy = state.pos.xy + v_dt.xy\n",
    "    angle = (state.pos.angle + v_dt.angle + TWO_PI) % TWO_PI\n",
    "    new_pos = Position(angle=angle, xy=xy)\n",
    "    return State(p=new_pos, v=state.v, bias_vel=state.v.zeros_like())"
   ]
  },
  {
   "cell_type": "markdown",
   "id": "f3d1d0da-1624-46a1-9225-1b73a2280bc5",
   "metadata": {},
   "source": [
    "やってみます"
>>>>>>> 6a10629 (Some more code)
   ]
  },
  {
   "cell_type": "code",
   "execution_count": null,
   "id": "3c279251-047d-4506-b55c-8852bdd8e560",
   "metadata": {},
   "outputs": [],
   "source": [
    "circles = Circle(\n",
    "    angle=jnp.array([0.0, 0.1, 0.2]),\n",
    "    xy=jnp.array([[0.0, 3.0], [1.0, 2.0], [2.0, 2.5]]),\n",
    ")\n",
    "space = Space(0.1, 0.9, Circle())"
   ]
  }
 ],
 "metadata": {
  "kernelspec": {
   "display_name": "rlog2",
   "language": "python",
   "name": "rlog2"
  },
  "language_info": {
   "codemirror_mode": {
    "name": "ipython",
    "version": 3
   },
   "file_extension": ".py",
   "mimetype": "text/x-python",
   "name": "python",
   "nbconvert_exporter": "python",
   "pygments_lexer": "ipython3",
   "version": "3.11.3"
  }
 },
 "nbformat": 4,
 "nbformat_minor": 5
}
