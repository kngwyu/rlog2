{
 "cells": [
  {
   "cell_type": "raw",
   "id": "2ea0d10d-6bab-47c4-bd19-a71230ab9772",
   "metadata": {},
   "source": [
    "---\n",
    "title: Jaxで高速な2Dゲーム物理シミュレーションを実装してみる\n",
    "date: 01/8/2023\n",
    "categories: [ja, RL, physics]\n",
    "---"
   ]
  },
  {
   "cell_type": "markdown",
   "id": "da28c967-3737-4fbc-ba79-5f6035494be4",
   "metadata": {},
   "source": [
    "GPU上での高速な物理シミュレーションは、(RLHFやOffline RLに押され気味とはいえ)強化学習界隈では話題のトピックですよね。また単純に、GPU上で爆速でシミュレーションが終わるのはなかなか楽しいものです。\n",
    "[NVIDIA IsaacSym](https://docs.omniverse.nvidia.com/index.html)もありますが、jaxで強化学習パイプライン全体を高速化したいなら[brax](https://github.com/google/brax)が便利です。以前[紹介するブログ](https://kngwyu.github.io/rlog2/posts/jax-brax-haiku.html)も書きましたが、現在のバージョンではより精度のいい手法が選べるようになっていて、普通にMuJoCoの代わりに使えそうな感じです。しかし、最近単純な2次元物理シミュレーションでbraxが使えないかな？と思って検討してみたところ、無理ではないのだけれどどうにも使いづらいな...という印象でした。また、二次元物理シミュレーションをするのに、三次元のボールとかで当たり判定を行うのはちょっと計算資源がもったいない気もします。なら自分で作ってしまえばいいんじゃないか？ということでやってみました。"
   ]
  },
  {
   "cell_type": "markdown",
   "id": "763a6759-4a06-455d-873f-20272e32a01c",
   "metadata": {},
   "source": [
    "# 2次元ゲーム物理？\n",
    "\n",
    "このブログ記事では、いわゆる「2次元ゲーム物理」の代表格として、[Box2D](https://en.wikipedia.org/wiki/Box2D)や[Chipmunk](tps://github.com/slembcke/Chipmunk2D)で実装されている比較的簡素なインパルスベースのシミュレーションを実装してみます。これは、物体が衝突した後の速度・位置の解決を、「衝突した位置から適当なインパルスを与える」ことで解く手法になります。braxでは\n",
    "\n",
    "> Spring provides fast and cheap simulation for rapid experimentation, using simple impulse-based methods often found in video games.\n",
    "\n",
    "と説明されています。関節が多い場合などはちゃんと拘束条件式と運動方程式を解かないとあまり精度が出ないのですが、単純な2次元物理シミュレーションならこれで十分でしょう。\n",
    "\n",
    "## 何をすればいいの\n",
    "\n",
    "では、このインパルスベースのシミュレーションでは、どのような流れでシミュレーションを実装すればいいのでしょうか。\n",
    "\n",
    "1. 現在の速度をもとに剛体を動かし、速度を減衰させる\n",
    "2. 剛体同士の衝突判定を行う\n",
    "3. 衝突した物体を交差しない位置まで戻して、衝突と逆方向のインパルスを加える\n",
    "\n",
    "まあだいたいこんな感じですね。必要に応じて「壁すり抜け対策」（物体が動いた軌道同士の交差判定）も行ったほうがいいですが、MuJoCoなど多くの物理シミュレーターでは$dt$が十分小さいことを仮定して実装されていないので、今回は実装しないことにします。\n",
    "\n",
    "# とりあえず作ってみる"
   ]
  },
  {
   "cell_type": "code",
   "execution_count": 2,
   "id": "b34d501b-7117-4a14-b93f-4112f72d492b",
   "metadata": {
    "tags": []
   },
   "outputs": [],
   "source": [
    "import chex\n",
    "import jax\n",
    "import jax.numpy as jnp\n",
    "\n",
    "\n",
    "@chex.dataclass\n",
    "class Circle:\n",
    "    mass: jax.Array\n",
    "    radius: jax.Array\n",
    "    rgba: jax.Array\n",
    "\n",
    "\n",
    "@chex.dataclass\n",
    "class Velocity:\n",
    "    angle_v: jax.Array\n",
    "    xy_v: jax.Array\n",
    "\n",
    "\n",
    "@chex.dataclass\n",
    "class Position:\n",
    "    angle: jax.Array\n",
    "    xy: jax.Array\n",
    "\n",
    "\n",
    "@chex.dataclass\n",
    "class Space:\n",
    "    dt: jax.Array\n",
    "    dynamic_circle: jax.Array\n",
    "    static_circle: jax.Array"
   ]
  },
  {
   "cell_type": "code",
   "execution_count": null,
   "id": "3efc24d8-5d2f-48eb-b177-48ef9b1af91a",
   "metadata": {},
   "outputs": [],
   "source": []
  }
 ],
 "metadata": {
  "kernelspec": {
   "display_name": "rlog2",
   "language": "python",
   "name": "rlog2"
  },
  "language_info": {
   "codemirror_mode": {
    "name": "ipython",
    "version": 3
   },
   "file_extension": ".py",
   "mimetype": "text/x-python",
   "name": "python",
   "nbconvert_exporter": "python",
   "pygments_lexer": "ipython3",
   "version": "3.11.3"
  }
 },
 "nbformat": 4,
 "nbformat_minor": 5
}
