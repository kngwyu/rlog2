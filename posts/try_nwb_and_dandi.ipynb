{
 "cells": [
  {
   "cell_type": "raw",
   "id": "ddf4bb6d-9471-409d-af73-74ab322dde7a",
   "metadata": {
    "tags": []
   },
   "source": [
    "---\n",
    "title: Try NWB\n",
    "date: 05/22/2023\n",
    "categories: [en, Neuroscience]\n",
    "---"
   ]
  },
  {
   "cell_type": "markdown",
   "id": "36b72d34-2e0f-4eac-853a-223b5b748386",
   "metadata": {},
   "source": [
    "[NWB (Neurodata Without Borders)](https://www.nwb.org/) is a data format proposed to become a data standard for neurophysiology."
   ]
  },
  {
   "cell_type": "code",
   "execution_count": 2,
   "id": "b01741c4-9387-43aa-8e25-4f5980298c25",
   "metadata": {
    "tags": []
   },
   "outputs": [],
   "source": [
    "from dandi.download import download as dandi_download\n",
    "from pathlib import Path\n",
    "\n",
    "DATA_DIR = Path(\"../data/neurons_detect_cognitive_boundaries\")"
   ]
  },
  {
   "cell_type": "code",
   "execution_count": 8,
   "id": "c76eed72-8145-48f5-b9ae-5cef08b943ff",
   "metadata": {
    "tags": []
   },
   "outputs": [
    {
     "name": "stdout",
     "output_type": "stream",
     "text": [
      "PATH                                          SIZE     DONE           DONE% CHECKSUM STATUS          MESSAGE   \n",
      "000207/dandiset.yaml                                                                 done            updated   \n",
      "000207/sub-16/sub-16_ses-16_ecephys+image.nwb 2.7 MB   2.7 MB          100%    ok    done                      \n",
      "000207/sub-11/sub-11_ses-11_ecephys+image.nwb 1.4 MB   1.4 MB          100%    ok    done                      \n",
      "000207/sub-1/sub-1_ses-1_ecephys+image.nwb    5.2 MB   5.2 MB          100%    ok    done                      \n",
      "000207/sub-10/sub-10_ses-10_ecephys+image.nwb 1.5 MB   1.5 MB          100%    ok    done                      \n",
      "000207/sub-18/sub-18_ses-18_ecephys+image.nwb 3.5 MB   3.5 MB          100%    ok    done                      \n",
      "000207/sub-13/sub-13_ses-13_ecephys+image.nwb 2.2 MB   2.2 MB          100%    ok    done                      \n",
      "000207/sub-14/sub-14_ses-14_ecephys+image.nwb 2.9 MB   2.9 MB          100%    ok    done                      \n",
      "000207/sub-12/sub-12_ses-12_ecephys+image.nwb 2.5 MB   2.5 MB          100%    ok    done                      \n",
      "000207/sub-15/sub-15_ses-15_ecephys+image.nwb 4.9 MB   4.9 MB          100%    ok    done                      \n",
      "000207/sub-17/sub-17_ses-17_ecephys+image.nwb 4.3 MB   4.3 MB          100%    ok    done                      \n",
      "000207/sub-19/sub-19_ses-19_ecephys+image.nwb 1.7 MB   1.7 MB          100%    ok    done                      \n",
      "000207/sub-2/sub-2_ses-2_ecephys+image.nwb    2.9 MB   2.9 MB          100%    ok    done                      \n",
      "000207/sub-3/sub-3_ses-3_ecephys+image.nwb    2.1 MB   2.1 MB          100%    ok    done                      \n",
      "000207/sub-4/sub-4_ses-4_ecephys+image.nwb    2.1 MB   2.1 MB          100%    ok    done                      \n",
      "000207/sub-6/sub-6_ses-6_ecephys+image.nwb    1.4 MB   1.4 MB          100%    ok    done                      \n",
      "000207/sub-9/sub-9_ses-9_ecephys+image.nwb    2.0 MB   2.0 MB          100%    ok    done                      \n",
      "000207/sub-8/sub-8_ses-8_ecephys+image.nwb    3.0 MB   3.0 MB          100%    ok    done                      \n",
      "000207/sub-5/sub-5_ses-5_ecephys+image.nwb    1.8 MB   1.8 MB          100%    ok    done                      \n",
      "000207/sub-7/sub-7_ses-7_ecephys+image.nwb    2.4 MB   2.4 MB          100%    ok    done                      \n",
      "Summary:                                      50.3 MB  50.3 MB                       20 done         1 updated \n",
      "                                                       100.00%                                                 \n"
     ]
    }
   ],
   "source": [
    "if not DATA_DIR.exists():\n",
    "    DATA_DIR.mkdir(parents=True)\n",
    "    dandi_download(\"DANDI:000207/0.220216.0323\", output_dir=DATA_DIR)"
   ]
  },
  {
   "cell_type": "code",
   "execution_count": null,
   "id": "c077aa82-b1d6-4b9b-ba62-456c0f2475ec",
   "metadata": {},
   "outputs": [],
   "source": []
  }
 ],
 "metadata": {
  "kernelspec": {
   "display_name": "rlog2",
   "language": "python",
   "name": "rlog2"
  },
  "language_info": {
   "codemirror_mode": {
    "name": "ipython",
    "version": 3
   },
   "file_extension": ".py",
   "mimetype": "text/x-python",
   "name": "python",
   "nbconvert_exporter": "python",
   "pygments_lexer": "ipython3",
   "version": "3.10.10"
  }
 },
 "nbformat": 4,
 "nbformat_minor": 5
}
