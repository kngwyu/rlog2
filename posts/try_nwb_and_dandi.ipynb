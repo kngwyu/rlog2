{
 "cells": [
  {
   "cell_type": "raw",
   "id": "ddf4bb6d-9471-409d-af73-74ab322dde7a",
   "metadata": {
    "tags": []
   },
   "source": [
    "---\n",
    "title: Try NWB\n",
    "date: 05/22/2023\n",
    "categories: [en, Neuroscience]\n",
    "---"
   ]
  },
  {
   "cell_type": "markdown",
   "id": "36b72d34-2e0f-4eac-853a-223b5b748386",
   "metadata": {},
   "source": [
    "[NWB (Neurodata Without Borders)](https://www.nwb.org/) is a data format proposed to become a data standard for neurophysiology.\n"
   ]
  },
  {
   "cell_type": "code",
   "execution_count": 50,
   "id": "b01741c4-9387-43aa-8e25-4f5980298c25",
   "metadata": {
    "tags": []
   },
   "outputs": [],
   "source": [
    "from pathlib import Path\n",
    "\n",
    "import numpy as np\n",
    "import pynwb\n",
    "from dandi.download import download as dandi_download\n",
    "from nwbwidgets import nwb2widget\n",
    "\n",
    "\n",
    "DATA_DIR = Path(\"../data/nwb\")"
   ]
  },
  {
   "cell_type": "markdown",
   "id": "72454595-c1cc-47a1-8a8b-8e0068651ccd",
   "metadata": {},
   "source": [
    "Let's download data."
   ]
  },
  {
   "cell_type": "code",
   "execution_count": 2,
   "id": "c76eed72-8145-48f5-b9ae-5cef08b943ff",
   "metadata": {
    "tags": []
   },
   "outputs": [
    {
     "name": "stdout",
     "output_type": "stream",
     "text": [
      "PATH                                          SIZE     DONE            DONE% CHECKSUM STATUS          MESSAGE   \n",
      "000207/dandiset.yaml                                                                  done            updated   \n",
      "000207/sub-16/sub-16_ses-16_ecephys+image.nwb 2.7 MB   2.7 MB           100%    ok    done                      \n",
      "000207/sub-11/sub-11_ses-11_ecephys+image.nwb 1.4 MB   1.4 MB           100%    ok    done                      \n",
      "000207/sub-1/sub-1_ses-1_ecephys+image.nwb    5.2 MB   5.2 MB           100%    ok    done                      \n",
      "000207/sub-10/sub-10_ses-10_ecephys+image.nwb 1.5 MB   1.5 MB           100%    ok    done                      \n",
      "000207/sub-18/sub-18_ses-18_ecephys+image.nwb 3.5 MB   3.5 MB           100%    ok    done                      \n",
      "000207/sub-13/sub-13_ses-13_ecephys+image.nwb 2.2 MB   2.2 MB           100%    ok    done                      \n",
      "000207/sub-14/sub-14_ses-14_ecephys+image.nwb 2.9 MB   2.9 MB           100%    ok    done                      \n",
      "000207/sub-12/sub-12_ses-12_ecephys+image.nwb 2.5 MB   2.5 MB           100%    ok    done                      \n",
      "000207/sub-15/sub-15_ses-15_ecephys+image.nwb 4.9 MB   4.9 MB           100%    ok    done                      \n",
      "000207/sub-17/sub-17_ses-17_ecephys+image.nwb 4.3 MB   4.3 MB           100%    ok    done                      \n",
      "000207/sub-19/sub-19_ses-19_ecephys+image.nwb 1.7 MB   1.7 MB           100%    ok    done                      \n",
      "000207/sub-2/sub-2_ses-2_ecephys+image.nwb    2.9 MB   2.9 MB           100%    ok    done                      \n",
      "000207/sub-3/sub-3_ses-3_ecephys+image.nwb    2.1 MB   2.1 MB           100%    ok    done                      \n",
      "000207/sub-4/sub-4_ses-4_ecephys+image.nwb    2.1 MB   2.1 MB           100%    ok    done                      \n",
      "000207/sub-6/sub-6_ses-6_ecephys+image.nwb    1.4 MB   1.4 MB           100%    ok    done                      \n",
      "000207/sub-9/sub-9_ses-9_ecephys+image.nwb    2.0 MB   2.0 MB           100%    ok    done                      \n",
      "000207/sub-8/sub-8_ses-8_ecephys+image.nwb    3.0 MB   3.0 MB           100%    ok    done                      \n",
      "000207/sub-5/sub-5_ses-5_ecephys+image.nwb    1.8 MB   1.8 MB           100%    ok    done                      \n",
      "000207/sub-7/sub-7_ses-7_ecephys+image.nwb    2.4 MB   2.4 MB           100%    ok    done                      \n",
      "Summary:                                      50.3 MB  50.3 MB                        20 done         1 updated \n",
      "                                                       100.00%                                                  \n"
     ]
    }
   ],
   "source": [
    "if not DATA_DIR.exists():\n",
    "    DATA_DIR.mkdir(parents=True)\n",
    "    dandi_download(\"DANDI:000207/0.220216.0323\", output_dir=DATA_DIR)"
   ]
  },
  {
   "cell_type": "markdown",
   "id": "a5ed3aa0-77f3-47b1-867c-e6acb654c0e7",
   "metadata": {},
   "source": [
    "It looks like that the data is downloaded under `000207` directory in the data directory I specified. Let's prepare a convenient function for reading the data."
   ]
  },
  {
   "cell_type": "code",
   "execution_count": 4,
   "id": "9b960ec5-d770-4d0c-9a4b-f2f9ea3fbe60",
   "metadata": {
    "tags": []
   },
   "outputs": [],
   "source": [
    "def load_nwb(session_id: int) -> pynwb.NWBFile:\n",
    "    \"\"\"Load an NWB file. session_id should be an integer from 1 to 19.\"\"\"\n",
    "    path = DATA_DIR.joinpath(\n",
    "        f\"000207/sub-{session_id}/sub-{session_id}_ses-{session_id}_ecephys+image.nwb\"\n",
    "    )\n",
    "    return pynwb.NWBHDF5IO(path, mode=\"r\").read()"
   ]
  },
  {
   "cell_type": "markdown",
   "id": "6fbcb432-5717-4e23-9651-e400685a0139",
   "metadata": {},
   "source": [
    "While I already roughly read the paper, I have no idea what these files contain. \n",
    "To help me check the data content, NWB provides a separated package called [nwbwidgets](https://nwb-overview.readthedocs.io/en/latest/tools/nwbwidgets/nwbwidgets.html) that creates an interactive [Jupyter Widgets](https://ipywidgets.readthedocs.io/en/stable/).\n",
    "Let's load a data and visualize it."
   ]
  },
  {
   "cell_type": "code",
   "execution_count": 56,
   "id": "d7a8ffe2-32f3-4064-abd9-56a0a8d45900",
   "metadata": {
    "tags": []
   },
   "outputs": [
    {
     "name": "stderr",
     "output_type": "stream",
     "text": [
      "/home/yuji/Documents/rlog2/.venv/lib/python3.11/site-packages/pynwb/core.py:47: UserWarning: OpticalSeries 'StimulusPresentation_encoding': The number of frame indices in 'starting_frame' should have the same length as 'external_file'.\n",
      "  warn(error_msg)\n",
      "/home/yuji/Documents/rlog2/.venv/lib/python3.11/site-packages/pynwb/core.py:47: UserWarning: OpticalSeries 'StimulusPresentation_encoding': Either external_file or data must be specified (not None), but not both.\n",
      "  warn(error_msg)\n"
     ]
    },
    {
     "data": {
      "application/vnd.jupyter.widget-view+json": {
       "model_id": "9d13011caf6547b59121913ef4f4c298",
       "version_major": 2,
       "version_minor": 0
      },
      "text/plain": [
       "VBox(children=(HBox(children=(Label(value='session_description:', layout=Layout(max_height='40px', max_width='…"
      ]
     },
     "execution_count": 56,
     "metadata": {},
     "output_type": "execute_result"
    }
   ],
   "source": [
    "nwb10 = load_nwb(10)\n",
    "nwb2widget(nwb10)"
   ]
  },
  {
   "cell_type": "markdown",
   "id": "b9cb511c-d34a-45c6-84df-2d4466b285da",
   "metadata": {},
   "source": [
    "It didn't helped me understand the data much..., but at least, I now know that `units/Session Raster` shows me a raster plot of the spiking data.\n",
    "So I guess that the actual spiking data is under `units`."
   ]
  },
  {
   "cell_type": "code",
   "execution_count": 5,
   "id": "9de43b54-c83d-43af-8f9f-e797cd6e0286",
   "metadata": {
    "tags": []
   },
   "outputs": [
    {
     "name": "stderr",
     "output_type": "stream",
     "text": [
      "/home/yuji/Documents/rlog2/.venv/lib/python3.11/site-packages/pynwb/core.py:47: UserWarning: OpticalSeries 'StimulusPresentation_encoding': The number of frame indices in 'starting_frame' should have the same length as 'external_file'.\n",
      "  warn(error_msg)\n",
      "/home/yuji/Documents/rlog2/.venv/lib/python3.11/site-packages/pynwb/core.py:47: UserWarning: OpticalSeries 'StimulusPresentation_encoding': Either external_file or data must be specified (not None), but not both.\n",
      "  warn(error_msg)\n"
     ]
    }
   ],
   "source": [
    "nwb10 = load_nwb(10)"
   ]
  },
  {
   "cell_type": "code",
   "execution_count": 10,
   "id": "3d402b07-09af-4e1a-8b8e-41d13f2376fc",
   "metadata": {
    "tags": []
   },
   "outputs": [
    {
     "data": {
      "text/plain": [
       "{'StimulusPresentation_encoding': StimulusPresentation_encoding pynwb.image.OpticalSeries at 0x140040236018640\n",
       " Fields:\n",
       "   comments: no comments\n",
       "   conversion: 1.0\n",
       "   data: <HDF5 dataset \"data\": shape (2, 2, 2), type \"<f8\">\n",
       "   description: no description\n",
       "   dimension: <HDF5 dataset \"dimension\": shape (3,), type \"<i4\">\n",
       "   distance: 0.7\n",
       "   external_file: <HDF5 dataset \"external_file\": shape (90,), type \"|O\">\n",
       "   field_of_view: <HDF5 dataset \"field_of_view\": shape (3,), type \"<f8\">\n",
       "   format: external\n",
       "   interval: 1\n",
       "   offset: 0.0\n",
       "   orientation: lower left\n",
       "   resolution: -1.0\n",
       "   starting_frame: [0]\n",
       "   timestamps: <HDF5 dataset \"timestamps\": shape (90,), type \"<f8\">\n",
       "   timestamps_unit: seconds\n",
       "   unit: meters}"
      ]
     },
     "execution_count": 10,
     "metadata": {},
     "output_type": "execute_result"
    }
   ],
   "source": [
    "nwb10.stimulus"
   ]
  },
  {
   "cell_type": "code",
   "execution_count": 14,
   "id": "71e7d908-de6c-41a5-aa27-8974e8906938",
   "metadata": {
    "tags": []
   },
   "outputs": [
    {
     "data": {
      "text/plain": [
       "array([[[nan, nan],\n",
       "        [nan, nan]],\n",
       "\n",
       "       [[nan, nan],\n",
       "        [nan, nan]]])"
      ]
     },
     "execution_count": 14,
     "metadata": {},
     "output_type": "execute_result"
    }
   ],
   "source": [
    "nwb10.stimulus[\"StimulusPresentation_encoding\"].data[:]"
   ]
  },
  {
   "cell_type": "code",
   "execution_count": 20,
   "id": "aeef5958-e9a1-45c7-990d-508995ae0a06",
   "metadata": {
    "tags": []
   },
   "outputs": [
    {
     "data": {
      "text/plain": [
       "NLX-microwires-137 pynwb.ecephys.ElectrodeGroup at 0x140040256734864\n",
       "Fields:\n",
       "  description: Microwire\n",
       "  device: NLX-microwires-137 pynwb.device.Device at 0x140040248428240\n",
       "Fields:\n",
       "  description: Recordings were performed with Macro-Micro Hybrid Depth Electrodes with Behnke Fried/Micro Inner Wire Bundle in which each individual microwire has a diameter of 40 microns. Likwise, each Depth Electrode has 8 microwires.\n",
       "\n",
       "  location: hippocampus_left"
      ]
     },
     "execution_count": 20,
     "metadata": {},
     "output_type": "execute_result"
    }
   ],
   "source": [
    "nwb10.electrode_groups[\"NLX-microwires-137\"]"
   ]
  },
  {
   "cell_type": "code",
   "execution_count": 23,
   "id": "4177cf91-a502-4f1c-befb-96a07d750c42",
   "metadata": {
    "tags": []
   },
   "outputs": [
    {
     "data": {
      "text/plain": [
       "events pynwb.base.TimeSeries at 0x140040248427088\n",
       "Fields:\n",
       "  comments: no comments\n",
       "  conversion: 1.0\n",
       "  data: <HDF5 dataset \"data\": shape (1720,), type \"|i1\">\n",
       "  description: The events coorespond to the TTL markers for each trial. For the encoding trials, the TTL markers are the following: 61 = start of the experiment, 1 = stimulus ON, 2 = stimulus OFF, 11 = Fix Cross, 3 = Probe, 4 = Response, 60 = End of Experiment\n",
       "  interval: 1\n",
       "  offset: 0.0\n",
       "  resolution: -1.0\n",
       "  timestamps: <HDF5 dataset \"timestamps\": shape (1720,), type \"<f8\">\n",
       "  timestamps_unit: seconds\n",
       "  unit: NA"
      ]
     },
     "execution_count": 23,
     "metadata": {},
     "output_type": "execute_result"
    }
   ],
   "source": [
    "nwb10.acquisition[\"events\"]"
   ]
  },
  {
   "cell_type": "code",
   "execution_count": 36,
   "id": "891bdbab-4705-425d-9f97-8591112b9bab",
   "metadata": {
    "tags": []
   },
   "outputs": [
    {
     "data": {
      "text/plain": [
       "(140083,)"
      ]
     },
     "execution_count": 36,
     "metadata": {},
     "output_type": "execute_result"
    }
   ],
   "source": [
    "nwb10.units.spike_times.shape"
   ]
  },
  {
   "cell_type": "code",
   "execution_count": 45,
   "id": "e7572c35-b139-4730-b80a-c0f239d2c4db",
   "metadata": {
    "tags": []
   },
   "outputs": [
    {
     "data": {
      "text/plain": [
       "encoding_table pynwb.epoch.TimeIntervals at 0x140040235456336\n",
       "Fields:\n",
       "  colnames: ['start_time' 'stop_time' 'fixcross_time' 'ExperimentID' 'boundary1_time'\n",
       " 'boundary2_time' 'boundary3_time' 'stimCategory' 'Clip_name']\n",
       "  columns: (\n",
       "    start_time <class 'hdmf.common.table.VectorData'>,\n",
       "    stop_time <class 'hdmf.common.table.VectorData'>,\n",
       "    fixcross_time <class 'hdmf.common.table.VectorData'>,\n",
       "    ExperimentID <class 'hdmf.common.table.VectorData'>,\n",
       "    boundary1_time <class 'hdmf.common.table.VectorData'>,\n",
       "    boundary2_time <class 'hdmf.common.table.VectorData'>,\n",
       "    boundary3_time <class 'hdmf.common.table.VectorData'>,\n",
       "    stimCategory <class 'hdmf.common.table.VectorData'>,\n",
       "    Clip_name <class 'hdmf.common.table.VectorData'>\n",
       "  )\n",
       "  description: intervals for the encoding task\n",
       "  id: id <class 'hdmf.common.table.ElementIdentifiers'>"
      ]
     },
     "execution_count": 45,
     "metadata": {},
     "output_type": "execute_result"
    }
   ],
   "source": [
    "nwb10.intervals[\"encoding_table\"]"
   ]
  },
  {
   "cell_type": "code",
   "execution_count": 53,
   "id": "1f180b4f-dc42-4ee5-9fd4-f86df0082286",
   "metadata": {
    "tags": []
   },
   "outputs": [
    {
     "data": {
      "text/plain": [
       "array([  1.1404295 ,  10.3158655 ,  19.339164  ,  28.46748775,\n",
       "        37.1526995 ,  45.7848485 ,  63.089899  ,  72.43824325,\n",
       "        81.59445025,  90.73273125, 100.12601775, 109.18814375,\n",
       "       117.742145  , 130.40028475, 139.3834105 , 148.41635425,\n",
       "       157.401228  , 166.6578065 , 175.64558475, 190.36648875,\n",
       "       199.416104  , 208.399781  , 217.6347525 , 226.47758275,\n",
       "       240.78742875, 249.87464425, 259.25654825, 268.48181725,\n",
       "       277.56536225, 286.59772075, 297.8551905 , 306.9603105 ,\n",
       "       316.18439125, 324.778364  , 334.02651475, 343.16366225,\n",
       "       351.05137575, 361.909297  , 370.9656565 , 379.90795275,\n",
       "       388.7606235 , 397.03696475, 415.75064375, 425.3681415 ,\n",
       "       434.79651175, 443.99076425, 453.228418  , 467.71653775,\n",
       "       476.6149805 , 485.5766605 , 494.54777925, 503.621363  ,\n",
       "       511.8541325 , 521.16817025, 536.9280785 , 546.0343685 ,\n",
       "       554.89148425, 564.18862   , 573.25371625, 582.3744625 ,\n",
       "       591.3386365 , 605.2981825 , 614.2894705 , 623.66966825,\n",
       "       632.621469  , 641.6453365 , 651.1447835 , 660.21841825,\n",
       "       679.7478625 , 688.7830155 , 697.89276725, 706.878304  ,\n",
       "       715.039039  , 723.9574    , 737.83691   , 746.84736975,\n",
       "       755.908475  , 765.0490425 , 774.279795  , 788.832249  ,\n",
       "       797.8880235 , 806.81638   , 815.94920675, 824.81630175,\n",
       "       838.13403725, 846.74845825, 855.729199  , 864.8038085 ,\n",
       "       874.01746025, 883.893121  ])"
      ]
     },
     "execution_count": 53,
     "metadata": {},
     "output_type": "execute_result"
    }
   ],
   "source": [
    "nwb10.intervals[\"encoding_table\"].start_time[:]"
   ]
  },
  {
   "cell_type": "code",
   "execution_count": 54,
   "id": "7a8b09e0-8eee-4cf1-911b-2db6d4d92fdb",
   "metadata": {
    "tags": []
   },
   "outputs": [
    {
     "data": {
      "text/plain": [
       "units pynwb.misc.Units at 0x140040234099600\n",
       "Fields:\n",
       "  colnames: ['spike_times' 'electrodes']\n",
       "  columns: (\n",
       "    spike_times_index <class 'hdmf.common.table.VectorIndex'>,\n",
       "    spike_times <class 'hdmf.common.table.VectorData'>,\n",
       "    electrodes <class 'hdmf.common.table.DynamicTableRegion'>\n",
       "  )\n",
       "  description: units table\n",
       "  id: id <class 'hdmf.common.table.ElementIdentifiers'>\n",
       "  waveform_unit: volts"
      ]
     },
     "execution_count": 54,
     "metadata": {},
     "output_type": "execute_result"
    }
   ],
   "source": [
    "nwb10.units"
   ]
  },
  {
   "cell_type": "code",
   "execution_count": null,
   "id": "c6cda890-1c03-48ad-af50-9346798f5532",
   "metadata": {},
   "outputs": [],
   "source": []
  },
  {
   "cell_type": "code",
   "execution_count": null,
   "id": "e02cf464-2a35-47a4-801f-b638186335e1",
   "metadata": {},
   "outputs": [],
   "source": []
  },
  {
   "cell_type": "code",
   "execution_count": null,
   "id": "a3664d88-9492-4a47-b9f7-9da744f9488c",
   "metadata": {},
   "outputs": [],
   "source": []
  },
  {
   "cell_type": "code",
   "execution_count": null,
   "id": "6dd193b2-2e55-4f4e-9178-5a832be5005b",
   "metadata": {},
   "outputs": [],
   "source": []
  },
  {
   "cell_type": "code",
   "execution_count": null,
   "id": "80ff0fbc-c659-4106-be5b-c456a2afe200",
   "metadata": {},
   "outputs": [],
   "source": []
  },
  {
   "cell_type": "code",
   "execution_count": null,
   "id": "1f3f7ed6-b76a-4d80-bd33-17177f5bd231",
   "metadata": {},
   "outputs": [],
   "source": []
  },
  {
   "cell_type": "code",
   "execution_count": null,
   "id": "9dfb96fc-cc1a-455f-8af5-dc63dd87da9c",
   "metadata": {},
   "outputs": [],
   "source": []
  },
  {
   "cell_type": "code",
   "execution_count": null,
   "id": "65170856-3106-48b5-af56-5c87c40ccde4",
   "metadata": {},
   "outputs": [],
   "source": []
  },
  {
   "cell_type": "code",
   "execution_count": null,
   "id": "cbe7249c-a17c-4c96-8d52-3a8a7f2effc0",
   "metadata": {},
   "outputs": [],
   "source": []
  }
 ],
 "metadata": {
  "kernelspec": {
   "display_name": "rlog2",
   "language": "python",
   "name": "rlog2"
  },
  "language_info": {
   "codemirror_mode": {
    "name": "ipython",
    "version": 3
   },
   "file_extension": ".py",
   "mimetype": "text/x-python",
   "name": "python",
   "nbconvert_exporter": "python",
   "pygments_lexer": "ipython3",
   "version": "3.11.3"
  }
 },
 "nbformat": 4,
 "nbformat_minor": 5
}
